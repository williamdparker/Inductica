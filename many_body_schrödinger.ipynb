{
 "cells": [
  {
   "metadata": {},
   "cell_type": "markdown",
   "source": [
    "The time-dependent Schrödinger equation for $n$ particles is:\n",
    "$$\n",
    "i\\hbar \\frac{\\partial}{\\partial t} \\Psi(\\vec{x}_1, \\dots, \\vec{x}_n, t) =\n",
    "\\left[\n",
    "- \\sum_{i=1}^{n} \\frac{\\hbar^2}{2m_i} \\nabla_i^2 + V(\\vec{x}_1, \\vec{x}_2, \\cdots \\vec{x}_n)\n",
    "\\right]\n",
    "\\Psi(\\vec{x}_1, \\dots, \\vec{x}_n, t)\n",
    "$$"
   ],
   "id": "4c2bceba7eeb5ae4"
  },
  {
   "metadata": {},
   "cell_type": "markdown",
   "source": [
    "For non-interacting particles, the total potential energy of the system is the sum of the potential energy of each particle, which is only dependent on external sources and not the positions of other particles in the system so:\n",
    "$$V(\\vec{x}_1, \\dots, \\vec{x}_n) = \\sum_{i=1}^n V_i (\\vec{x}_i)$$"
   ],
   "id": "7d3b26c350e32303"
  },
  {
   "metadata": {},
   "cell_type": "markdown",
   "source": [
    "$$\n",
    "i\\hbar \\frac{\\partial}{\\partial t} \\Psi(\\vec{x}_1, \\dots, \\vec{x}_n, t) =\n",
    "\\left[\n",
    "- \\sum_{i=1}^{n} \\frac{\\hbar^2}{2m_i} \\nabla_i^2 + \\sum_{i=1}^{n} V_i(\\vec{x}_i)\n",
    "\\right]\n",
    "\\Psi(\\vec{x}_1, \\dots, \\vec{x}_n, t)\n",
    "$$"
   ],
   "id": "958db557ce7f1738"
  },
  {
   "metadata": {},
   "cell_type": "markdown",
   "source": [
    "Integrating both sides with respsect to the positions all particles but the first,\n",
    "\n",
    "$\\begin{align}\n",
    "\\int \\int \\cdots \\int i\\hbar \\frac{\\partial}{\\partial t} \\Psi(\\vec{x}_1, \\dots, \\vec{x}_n, t) d^3 x_2 \\, d^3 x_3 \\cdots d^3 x_n &= \\\\\n",
    "&\\,- \\int \\int \\cdots \\int \\left(  \\frac{\\hbar^2}{2 m_1} \\nabla_1^2 \\Psi(\\vec{x}_1, \\dots, \\vec{x}_n, t) + \\frac{\\hbar^2}{2 m_2} \\nabla_2^2 \\Psi(\\vec{x}_1, \\dots, \\vec{x}_n, t) + \\cdots + \\frac{\\hbar^2}{2 m_n} \\nabla_n^2 \\Psi(\\vec{x}_1, \\dots, \\vec{x}_n, t) \\right) \\, d^3 x_2 \\, d^3 x_3 \\cdots d^3 x_n \\\\\n",
    "&+ \\int \\int \\cdots \\int \\left( V_1(\\vec{x}_1) \\Psi(\\vec{x}_1, \\dots, \\vec{x}_n, t) + V_2(\\vec{x}_1) \\Psi(\\vec{x}_1, \\dots, \\vec{x}_n, t) + \\cdots V_n(\\vec{x}_n) \\Psi(\\vec{x}_1, \\dots, \\vec{x}_n, t) \\right) \\, d^3 x_2 \\, d^3 x_3 \\cdots d^3 x_n\\\\\n",
    "\\end{align}$"
   ],
   "id": "a692b6f413110fcb"
  },
  {
   "metadata": {},
   "cell_type": "markdown",
   "source": "If the particles are unentangled, then the many-body wavefunction $\\Psi$ factorizes into a product of single-particle wavefunctions:  $$\\Psi(\\vec{x}_1, \\dots, \\vec{x}_n, t) = \\psi_1(\\vec{x}_1, t) \\psi_2(\\vec{x}_2, t) \\cdots \\psi_n(\\vec{x}_n, t)$$",
   "id": "8d854d3d4d803825"
  },
  {
   "metadata": {},
   "cell_type": "markdown",
   "source": [
    "The factorization allows the grouping of each Laplacian $\\nabla_i^2$ with the related single particle function $\\psi_i(\\vec{x}_i, t)$:\n",
    "$\\begin{align}\n",
    "\\int \\int \\cdots \\int i\\hbar \\frac{\\partial}{\\partial t} \\left[\\psi_1(\\vec{x}_1, t) \\dots \\psi_n(\\vec{x}_n, t)\\right] d^3 x_2 \\, d^3 x_3 \\cdots d^3 x_n &= \\\\\n",
    "&\\,- \\int \\int \\cdots \\int \\left(  \\frac{\\hbar^2}{2 m_1} \\left[\\nabla_1^2 \\psi_1(\\vec{x}_1, t)\\right] \\psi_2(\\vec{x}_2, t)\\dots \\psi_n(\\vec{x}_n, t) + \\frac{\\hbar^2}{2 m_2} \\psi_1(\\vec{x}_1, t) \\left[\\nabla_2^2 \\psi_2(\\vec{x}_2, t)\\right] \\psi_3(\\vec{x}_3, t) \\dots \\psi_n(\\vec{x}_n, t) + \\cdots + \\frac{\\hbar^2}{2 m_n} \\psi_1(\\vec{x}_1, t) \\cdots \\psi_{n-1}(\\vec{x}_{n-1}, t) \\left[\\nabla_n^2 \\psi_n(\\vec{x}_n, t)\\right] \\right) \\, d^3 x_2 \\, d^3 x_3 \\cdots d^3 x_n \\\\\n",
    "&+ \\int \\int \\cdots \\int \\left( V_1(\\vec{x}_1) \\Psi(\\vec{x}_1, \\dots, \\vec{x}_n, t) + V_2(\\vec{x}_1) \\Psi(\\vec{x}_1, \\dots, \\vec{x}_n, t) + \\cdots V_n(\\vec{x}_n) \\Psi(\\vec{x}_1, \\dots, \\vec{x}_n, t) \\right) \\, d^3 x_2 \\, d^3 x_3 \\cdots d^3 x_n\\\\\n",
    "\\end{align}$"
   ],
   "id": "dae57ed39edfbfc5"
  },
  {
   "metadata": {},
   "cell_type": "code",
   "outputs": [],
   "execution_count": null,
   "source": "",
   "id": "34af86ade7d36cfc"
  }
 ],
 "metadata": {
  "kernelspec": {
   "display_name": "Python 3",
   "language": "python",
   "name": "python3"
  },
  "language_info": {
   "codemirror_mode": {
    "name": "ipython",
    "version": 2
   },
   "file_extension": ".py",
   "mimetype": "text/x-python",
   "name": "python",
   "nbconvert_exporter": "python",
   "pygments_lexer": "ipython2",
   "version": "2.7.6"
  }
 },
 "nbformat": 4,
 "nbformat_minor": 5
}
