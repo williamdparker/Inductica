{
 "cells": [
  {
   "metadata": {},
   "cell_type": "markdown",
   "source": [
    "The time-dependent Schrödinger equation for $n$ particles is:\n",
    "$$\n",
    "i\\hbar \\frac{\\partial}{\\partial t} \\Psi(\\vec{x}_1, \\dots, \\vec{x}_n, t) =\n",
    "\\left[\n",
    "- \\sum_{i=1}^{n} \\frac{\\hbar^2}{2m_i} \\nabla_i^2 + V(\\vec{x}_1, \\vec{x}_2, \\cdots \\vec{x}_n)\n",
    "\\right]\n",
    "\\Psi(\\vec{x}_1, \\dots, \\vec{x}_n, t)\n",
    "$$"
   ],
   "id": "4c2bceba7eeb5ae4"
  },
  {
   "metadata": {},
   "cell_type": "markdown",
   "source": [
    "For non-interacting particles, the total potential energy of the system is the sum of the potential energy of each particle, which is only dependent on external sources and not the positions of other particles in the system so:\n",
    "$$V(\\vec{x}_1, \\dots, \\vec{x}_n) = \\sum_{i=1}^n V_i (\\vec{x}_i)$$"
   ],
   "id": "7d3b26c350e32303"
  },
  {
   "metadata": {},
   "cell_type": "markdown",
   "source": [
    "$$\n",
    "i\\hbar \\frac{\\partial}{\\partial t} \\Psi(\\vec{x}_1, \\dots, \\vec{x}_n, t) =\n",
    "\\left[\n",
    "- \\sum_{i=1}^{n} \\frac{\\hbar^2}{2m_i} \\nabla_i^2 + \\sum_{i=1}^{n} V_i(\\vec{x}_i)\n",
    "\\right]\n",
    "\\Psi(\\vec{x}_1, \\dots, \\vec{x}_n, t)\n",
    "$$"
   ],
   "id": "958db557ce7f1738"
  },
  {
   "metadata": {},
   "cell_type": "markdown",
   "source": [
    "Integrating both sides with respsect to the positions all particles but the first,\n",
    "\n",
    "$\\begin{align}\n",
    "\\int \\int \\cdots \\int i\\hbar \\frac{\\partial}{\\partial t} \\Psi(\\vec{x}_1, \\dots, \\vec{x}_n, t) d^3 x_2 \\, d^3 x_3 \\cdots d^3 x_n &= \\\\\n",
    "&\\,- \\int \\int \\cdots \\int \\left(  \\frac{\\hbar^2}{2 m_1} \\nabla_1^2 \\Psi(\\vec{x}_1, \\dots, \\vec{x}_n, t) + \\frac{\\hbar^2}{2 m_2} \\nabla_2^2 \\Psi(\\vec{x}_1, \\dots, \\vec{x}_n, t) + \\cdots + \\frac{\\hbar^2}{2 m_n} \\nabla_n^2 \\Psi(\\vec{x}_1, \\dots, \\vec{x}_n, t) \\right) \\, d^3 x_2 \\, d^3 x_3 \\cdots d^3 x_n \\\\\n",
    "&+ \\int \\int \\cdots \\int \\left( V_1(\\vec{x}_1) \\Psi(\\vec{x}_1, \\dots, \\vec{x}_n, t) + V_2(\\vec{x}_2) \\Psi(\\vec{x}_1, \\dots, \\vec{x}_n, t) + \\cdots V_n(\\vec{x}_n) \\Psi(\\vec{x}_1, \\dots, \\vec{x}_n, t) \\right) \\, d^3 x_2 \\, d^3 x_3 \\cdots d^3 x_n\\\\\n",
    "\\end{align}$"
   ],
   "id": "a692b6f413110fcb"
  },
  {
   "metadata": {},
   "cell_type": "markdown",
   "source": "If the particles are unentangled, then the many-body wavefunction $\\Psi$ factorizes into a product of single-particle wavefunctions:  $$\\Psi(\\vec{x}_1, \\dots, \\vec{x}_n, t) = \\psi_1(\\vec{x}_1, t) \\psi_2(\\vec{x}_2, t) \\cdots \\psi_n(\\vec{x}_n, t)$$",
   "id": "8d854d3d4d803825"
  },
  {
   "metadata": {},
   "cell_type": "markdown",
   "source": [
    "The factorization allows the grouping of each Laplacian $\\nabla_i^2$ with the related single particle function $\\psi_i(\\vec{x}_i, t)$:\n",
    "$\\begin{align}\n",
    "\\int \\int \\cdots \\int i\\hbar \\frac{\\partial}{\\partial t} \\left[\\psi_1(\\vec{x}_1, t) \\dots \\psi_n(\\vec{x}_n, t)\\right] d^3 x_2 \\, d^3 x_3 \\cdots d^3 x_n &= \\\\\n",
    "&\\,- \\int \\int \\cdots \\int \\left(  \\frac{\\hbar^2}{2 m_1} \\left[\\nabla_1^2 \\psi_1(\\vec{x}_1, t)\\right] \\psi_2(\\vec{x}_2, t)\\dots \\psi_n(\\vec{x}_n, t) + \\frac{\\hbar^2}{2 m_2} \\psi_1(\\vec{x}_1, t) \\left[\\nabla_2^2 \\psi_2(\\vec{x}_2, t)\\right] \\psi_3(\\vec{x}_3, t) \\dots \\psi_n(\\vec{x}_n, t) + \\cdots + \\frac{\\hbar^2}{2 m_n} \\psi_1(\\vec{x}_1, t) \\cdots \\psi_{n-1}(\\vec{x}_{n-1}, t) \\left[\\nabla_n^2 \\psi_n(\\vec{x}_n, t)\\right] \\right) \\, d^3 x_2 \\, d^3 x_3 \\cdots d^3 x_n \\\\\n",
    "&+ \\int \\int \\cdots \\int \\left( V_1(\\vec{x}_1) \\psi_1(\\vec{x}_1, t) \\dots \\psi_n(\\vec{x}_n, t) + V_2(\\vec{x}_2) \\psi_1(\\vec{x}_1, t) \\dots \\psi_n(\\vec{x}_n, t) + \\cdots V_n(\\vec{x}_n) \\psi_1(\\vec{x}_1, t) \\dots \\psi_n(\\vec{x}_n, t) \\right) \\, d^3 x_2 \\, d^3 x_3 \\cdots d^3 x_n\\\\\n",
    "\\end{align}$"
   ],
   "id": "dae57ed39edfbfc5"
  },
  {
   "metadata": {},
   "cell_type": "markdown",
   "source": [
    "We can integrate the wave function over the positions of all the particles but the first:\n",
    "\n",
    "$$\n",
    "\\begin{array}{ll}\n",
    "F_1(\\vec{x}_1, t) &\\equiv \\int \\int \\cdots \\int \\psi_1(\\vec{x}_1, t) \\psi_2(\\vec{x}_2, t) \\dots \\psi_n(\\vec{x}_n, t)\\, d^3 x_2 \\, d^3 x_3 \\cdots d^3 x_n \\\\\n",
    "                  &= \\psi_1(\\vec{x}_1, t) \\int \\int \\cdots \\int \\psi_2(\\vec{x}_2, t) \\dots \\psi_n(\\vec{x}_n, t)\\, d^3 x_2 \\, d^3 x_3 \\cdots d^3 x_n \\\\\n",
    "                  &= \\psi_1(\\vec{x}_1, t) f(t) \\\\\n",
    "\\end{array}$$"
   ],
   "id": "2574f378df4595fc"
  },
  {
   "metadata": {},
   "cell_type": "markdown",
   "source": [
    "And, by Leibniz integration rule, we can do the time derivative after the spatial integration so the left-hand side becomes:\n",
    "$$\\begin{array}{l}\n",
    "i \\hbar \\frac{\\partial}{\\partial t} F_1(\\vec{x}_1, t) \\\\\n",
    "= i\\hbar \\left[\\frac{\\partial \\psi_1(\\vec{x}_1, t)}{\\partial t} f(t) + \\psi_1(\\vec{x}_1, t) \\frac{df}{dt} \\right] \\\\\n",
    "\\end{array}$$"
   ],
   "id": "7cd1d033168c7e02"
  },
  {
   "metadata": {},
   "cell_type": "markdown",
   "source": [
    "In the first kinetic energy term on the right, we can use the defined function $F_1(\\vec{x}_1, t)$ directly as:\n",
    "$$\\begin{array}{l}\n",
    "-\\frac{\\hbar^2}{2 m_1} \\nabla_1^2 F_1(\\vec{x}_1, t) \\\\\n",
    "= -\\frac{\\hbar^2}{2 m_1} \\left[\\nabla_1^2 \\psi_1(\\vec{x}_1,t) \\right] f(t) \\\\\n",
    "\\end{array}$$"
   ],
   "id": "eee88c47ecc234f0"
  },
  {
   "metadata": {},
   "cell_type": "markdown",
   "source": [
    "For the other kinetic energy terms,  we must leave in a function of $\\vec{x}_1$ and the position of the particle of that term so we define:\n",
    "$$\\begin{array}{ll}\n",
    "G_i(\\vec{x}_1, \\vec{x}_i, t) &\\equiv \\int \\cdots \\int \\psi_1(\\vec{x}_1, t) \\psi_2(\\vec{x}_2, t)\\cdots \\psi_n(\\vec{x}_n, t) \\prod_{j \\neq \\{1, i\\}} d^3 x_j \\\\\n",
    "\\\\\n",
    "                             &= \\psi_1(\\vec{x}_1, t) \\int \\cdots \\int \\psi_i(\\vec{x}_i, t) \\prod_{j = 2, j \\neq i}^n \\psi_j(\\vec{x}_j, t) d^3 x_j \\\\\n",
    "                             &= \\psi_1(\\vec{x}_1, t) g_i(\\vec{x}_i, t) \\\\\n",
    "\\end{array} $$\n",
    "such that we can write each further kinetic term as:\n",
    "$$\\begin{array}{l}\n",
    "-\\frac{\\hbar^2}{2 m_i} \\int \\nabla_i^2 G_i(\\vec{x}_1, \\vec{x}_i, t)\\, d^3 x_i \\\\\n",
    "=-\\frac{\\hbar^2}{2 m_i} \\psi_1(\\vec{x}_1, t) \\int \\nabla_i^2 g_i(\\vec{x}_i, t)\\, d^3 x_i \\\\\n",
    "= \\psi_1(\\vec{x}_1, t) \\tilde{g}_i(t) \\\\\n",
    "\\end{array}$$"
   ],
   "id": "96af273f47764352"
  },
  {
   "metadata": {},
   "cell_type": "markdown",
   "source": [
    "Finally, we write each potential term as a function of $\\vec{x}_1$ and $t$ after integration:\n",
    "\n",
    "$$\\begin{array}{ll}\n",
    "H_i(\\vec{x}_1, t) &\\equiv \\int \\cdots \\int V_i(\\vec{x}_i) \\psi_1(\\vec{x}_1, t) \\psi_2(\\vec{x}_2, t) \\cdots \\psi_n(\\vec{x}_n, t) \\, d^3 x_2 \\cdots d^3 x_n \\\\\n",
    "                  &= \\psi_1(\\vec{x}_1, t) \\int \\cdots \\int V_i(\\vec{x}_i) \\psi_2(\\vec{x}_2, t) \\cdots \\psi_n(\\vec{x}_n, t) \\, d^3 x_2 \\cdots d^3 x_n \\\\\n",
    "                  &= \\psi_1(\\vec{x}_1, t) h_i(t)\n",
    "\\end{array}$$"
   ],
   "id": "8673a6045a08f3a"
  },
  {
   "metadata": {},
   "cell_type": "markdown",
   "source": [
    "So the full time-dependent Schrödinger equation becomes:\n",
    "$$\\begin{array}{ll}\n",
    "i \\hbar \\frac{\\partial}{\\partial t} F_1(\\vec{x}_1, t) &= -\\frac{\\hbar^2}{2 m_1} \\nabla_1^2 F_1(\\vec{x}_1, t) + F_1(\\vec{x}_1, t) V_1(\\vec{x}_1) + \\sum_{i=2}^n \\left(-\\frac{\\hbar^2}{2 m_i} \\int \\nabla_i^2 G_i(\\vec{x}_1, \\vec{x}_i, t) \\, d^3 x_i + H_i(\\vec{x}_1, t)  \\right) \\\\\n",
    "i\\hbar \\left[\\frac{\\partial \\psi_1(\\vec{x}_1, t)}{\\partial t} f(t) + \\psi_1(\\vec{x}_1, t) \\frac{df}{dt} \\right] &= -\\frac{\\hbar^2}{2 m_1} \\left[\\nabla_1^2 \\psi_1(\\vec{x}_1,t) \\right] f(t) + \\psi_1(\\vec{x}_1, t) V_1(\\vec{x}_1) f(t) + \\psi_1(\\vec{x}_1, t) \\sum_{i=2}^n \\left(\\tilde{g}_i(t)  +  h_i(t) \\right) \\\\\n",
    "\\frac{1}{\\psi_1(\\vec{x}_1, t)} \\left[ i\\hbar \\frac{\\partial \\psi_1(\\vec{x}_1, t)}{\\partial t} + \\frac{\\hbar^2}{2 m_1} \\nabla_1^2 \\psi_1(\\vec{x}_1,t)\\right] - V_1(\\vec{x}_1) &= \\frac{1}{f(t)} \\left[ -i\\hbar \\frac{df}{dt} + \\sum_{i=2}^n \\left(\\tilde{g}_i(t)  +  h_i(t) \\right)\\right] \\\\\n",
    "\\end{array}$$\n",
    "\n"
   ],
   "id": "8494ace955ac2dc3"
  },
  {
   "metadata": {},
   "cell_type": "code",
   "outputs": [],
   "execution_count": null,
   "source": "",
   "id": "d900146b889c8e2a"
  }
 ],
 "metadata": {
  "kernelspec": {
   "display_name": "Python 3",
   "language": "python",
   "name": "python3"
  },
  "language_info": {
   "codemirror_mode": {
    "name": "ipython",
    "version": 2
   },
   "file_extension": ".py",
   "mimetype": "text/x-python",
   "name": "python",
   "nbconvert_exporter": "python",
   "pygments_lexer": "ipython2",
   "version": "2.7.6"
  }
 },
 "nbformat": 4,
 "nbformat_minor": 5
}
